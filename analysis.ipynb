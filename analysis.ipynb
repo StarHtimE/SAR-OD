{
 "cells": [
  {
   "cell_type": "code",
   "execution_count": 19,
   "metadata": {},
   "outputs": [
    {
     "name": "stdout",
     "output_type": "stream",
     "text": [
      "plot curve of work_dirs/hrsid_deformable-detr_r50_sar/vis_data.json, metric is loss_cls\n",
      "plot curve of work_dirs/hrsid_deformable-detr_r50_sar/vis_data.json, metric is loss_bbox\n",
      "save curve to: work_dirs/hrsid_deformable-detr_r50_sar/losses.png\n"
     ]
    }
   ],
   "source": [
    "!python tools/analysis_tools/analyze_logs.py \\\n",
    "    plot_curve work_dirs/hrsid_deformable-detr_r50_sar/vis_data.json \\\n",
    "    --keys loss_cls loss_bbox \\\n",
    "    --legend loss_cls loss_bbox \\\n",
    "    --out work_dirs/hrsid_deformable-detr_r50_sar/losses.png"
   ]
  },
  {
   "cell_type": "code",
   "execution_count": 1,
   "metadata": {},
   "outputs": [
    {
     "name": "stdout",
     "output_type": "stream",
     "text": [
      "plot curve of work_dirs/hrsid_deformable-detr_r50_sar/vis_data.json, metric is loss_bbox\n",
      "plot curve of work_dirs/hrsid_dino_r50_sar/20250223_215231/vis_data/20250223_215231.json, metric is loss_bbox\n",
      "plot curve of work_dirs/hrsid_fcos_r50_sar/20250224_142615/vis_data/20250224_142615.json, metric is loss_bbox\n",
      "plot curve of work_dirs/hrsid_frcnn_r50_sar/20250223_040147/vis_data/20250223_040147.json, metric is loss_bbox\n",
      "plot curve of work_dirs/hrsid_retinanet_r50_sar/20250224_150239/vis_data/20250224_150239.json, metric is loss_bbox\n",
      "save curve to: work_dirs/hrsid_deformable-detr_r50_sar/comparison_bbox.png\n"
     ]
    }
   ],
   "source": [
    "!python tools/analysis_tools/analyze_logs.py \\\n",
    "    plot_curve work_dirs/hrsid_deformable-detr_r50_sar/vis_data.json \\\n",
    "    work_dirs/hrsid_dino_r50_sar/20250223_215231/vis_data/20250223_215231.json \\\n",
    "    work_dirs/hrsid_fcos_r50_sar/20250224_142615/vis_data/20250224_142615.json \\\n",
    "    work_dirs/hrsid_frcnn_r50_sar/20250223_040147/vis_data/20250223_040147.json \\\n",
    "    work_dirs/hrsid_retinanet_r50_sar/20250224_150239/vis_data/20250224_150239.json \\\n",
    "    --keys loss_bbox \\\n",
    "    --legend Deformable-DETR DINO FCOS Faster-RCNN RetinaNet \\\n",
    "    --out work_dirs/hrsid_deformable-detr_r50_sar/comparison_bbox.png \\\n",
    "    --title 'loss_bbox of different detectors'"
   ]
  },
  {
   "cell_type": "code",
   "execution_count": null,
   "metadata": {},
   "outputs": [
    {
     "name": "stdout",
     "output_type": "stream",
     "text": [
      "-----Analyze train time of work_dirs/hrsid_frcnn_r50_sar/20250223_040147/vis_data/scalars.json-----\n",
      "/root/miniconda3/envs/DETR/lib/python3.8/site-packages/numpy/core/fromnumeric.py:3464: RuntimeWarning: Mean of empty slice.\n",
      "  return _methods._mean(a, axis=axis, dtype=dtype,\n",
      "/root/miniconda3/envs/DETR/lib/python3.8/site-packages/numpy/core/_methods.py:192: RuntimeWarning: invalid value encountered in scalar divide\n",
      "  ret = ret.dtype.type(ret / rcount)\n",
      "slowest epoch 2, average time is nan s/iter\n",
      "fastest epoch 2, average time is nan s/iter\n",
      "time std over epochs is nan\n",
      "average iter time: nan s/iter\n",
      "\n"
     ]
    }
   ],
   "source": [
    "!python tools/analysis_tools/analyze_logs.py \\\n",
    "    cal_train_time work_dirs/hrsid_frcnn_r50_sar/20250223_040147/vis_data/20250223_040147.json"
   ]
  }
 ],
 "metadata": {
  "kernelspec": {
   "display_name": "DETR",
   "language": "python",
   "name": "python3"
  },
  "language_info": {
   "codemirror_mode": {
    "name": "ipython",
    "version": 3
   },
   "file_extension": ".py",
   "mimetype": "text/x-python",
   "name": "python",
   "nbconvert_exporter": "python",
   "pygments_lexer": "ipython3",
   "version": "3.8.20"
  }
 },
 "nbformat": 4,
 "nbformat_minor": 2
}
